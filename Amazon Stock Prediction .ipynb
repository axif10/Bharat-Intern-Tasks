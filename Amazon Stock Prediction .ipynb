{
 "cells": [
  {
   "cell_type": "markdown",
   "id": "0f128cff",
   "metadata": {},
   "source": [
    "## Bharat Intern Task : Stock Prediction"
   ]
  },
  {
   "cell_type": "code",
   "execution_count": 7,
   "id": "2f08bddd",
   "metadata": {},
   "outputs": [],
   "source": [
    "import numpy as np\n",
    "import pandas as pd\n",
    "from sklearn.preprocessing import MinMaxScaler\n",
    "from keras.models import Sequential\n",
    "from keras.layers import LSTM, Dense\n",
    "import matplotlib.pyplot as plt"
   ]
  },
  {
   "cell_type": "markdown",
   "id": "04bfc81e",
   "metadata": {},
   "source": [
    "## Load and preprocess data"
   ]
  },
  {
   "cell_type": "code",
   "execution_count": 2,
   "id": "6b42a5dc",
   "metadata": {},
   "outputs": [],
   "source": [
    "data = pd.read_csv('AMZN.csv')\n",
    "data = data['Close'].values.reshape(-1, 1)\n",
    "scaler = MinMaxScaler(feature_range=(0, 1))\n",
    "data = scaler.fit_transform(data)"
   ]
  },
  {
   "cell_type": "markdown",
   "id": "8d957164",
   "metadata": {},
   "source": [
    "## Prepare sequences"
   ]
  },
  {
   "cell_type": "code",
   "execution_count": 4,
   "id": "2a5a4fdc",
   "metadata": {},
   "outputs": [],
   "source": [
    "X = []\n",
    "y = []\n",
    "for i in range(60, len(data)):\n",
    "    X.append(data[i-60:i, 0])\n",
    "    y.append(data[i, 0])\n",
    "X = np.array(X)\n",
    "y = np.array(y)\n",
    "X = np.reshape(X, (X.shape[0], X.shape[1], 1))"
   ]
  },
  {
   "cell_type": "markdown",
   "id": "e125a430",
   "metadata": {},
   "source": [
    "## Build and train LSTM model"
   ]
  },
  {
   "cell_type": "code",
   "execution_count": 6,
   "id": "40267584",
   "metadata": {},
   "outputs": [
    {
     "name": "stdout",
     "output_type": "stream",
     "text": [
      "Epoch 1/100\n",
      "6/6 [==============================] - 9s 71ms/step - loss: 0.1110\n",
      "Epoch 2/100\n",
      "6/6 [==============================] - 0s 69ms/step - loss: 0.0268\n",
      "Epoch 3/100\n",
      "6/6 [==============================] - 0s 66ms/step - loss: 0.0152\n",
      "Epoch 4/100\n",
      "6/6 [==============================] - 0s 67ms/step - loss: 0.0159\n",
      "Epoch 5/100\n",
      "6/6 [==============================] - 0s 69ms/step - loss: 0.0095\n",
      "Epoch 6/100\n",
      "6/6 [==============================] - 0s 68ms/step - loss: 0.0091\n",
      "Epoch 7/100\n",
      "6/6 [==============================] - 0s 69ms/step - loss: 0.0077\n",
      "Epoch 8/100\n",
      "6/6 [==============================] - 0s 66ms/step - loss: 0.0068\n",
      "Epoch 9/100\n",
      "6/6 [==============================] - 0s 65ms/step - loss: 0.0065\n",
      "Epoch 10/100\n",
      "6/6 [==============================] - 0s 66ms/step - loss: 0.0063\n",
      "Epoch 11/100\n",
      "6/6 [==============================] - 0s 67ms/step - loss: 0.0061\n",
      "Epoch 12/100\n",
      "6/6 [==============================] - 0s 69ms/step - loss: 0.0058\n",
      "Epoch 13/100\n",
      "6/6 [==============================] - 0s 64ms/step - loss: 0.0056\n",
      "Epoch 14/100\n",
      "6/6 [==============================] - 0s 67ms/step - loss: 0.0055\n",
      "Epoch 15/100\n",
      "6/6 [==============================] - 0s 67ms/step - loss: 0.0053\n",
      "Epoch 16/100\n",
      "6/6 [==============================] - 0s 69ms/step - loss: 0.0052\n",
      "Epoch 17/100\n",
      "6/6 [==============================] - 0s 70ms/step - loss: 0.0050\n",
      "Epoch 18/100\n",
      "6/6 [==============================] - 0s 60ms/step - loss: 0.0048\n",
      "Epoch 19/100\n",
      "6/6 [==============================] - 0s 52ms/step - loss: 0.0048\n",
      "Epoch 20/100\n",
      "6/6 [==============================] - 0s 73ms/step - loss: 0.0048\n",
      "Epoch 21/100\n",
      "6/6 [==============================] - 0s 70ms/step - loss: 0.0048\n",
      "Epoch 22/100\n",
      "6/6 [==============================] - 0s 72ms/step - loss: 0.0046\n",
      "Epoch 23/100\n",
      "6/6 [==============================] - 0s 68ms/step - loss: 0.0047\n",
      "Epoch 24/100\n",
      "6/6 [==============================] - 0s 65ms/step - loss: 0.0049\n",
      "Epoch 25/100\n",
      "6/6 [==============================] - 0s 63ms/step - loss: 0.0045\n",
      "Epoch 26/100\n",
      "6/6 [==============================] - 0s 65ms/step - loss: 0.0046\n",
      "Epoch 27/100\n",
      "6/6 [==============================] - 0s 73ms/step - loss: 0.0044\n",
      "Epoch 28/100\n",
      "6/6 [==============================] - 0s 72ms/step - loss: 0.0044\n",
      "Epoch 29/100\n",
      "6/6 [==============================] - 0s 73ms/step - loss: 0.0047\n",
      "Epoch 30/100\n",
      "6/6 [==============================] - 0s 64ms/step - loss: 0.0045\n",
      "Epoch 31/100\n",
      "6/6 [==============================] - 0s 67ms/step - loss: 0.0042\n",
      "Epoch 32/100\n",
      "6/6 [==============================] - 0s 67ms/step - loss: 0.0047\n",
      "Epoch 33/100\n",
      "6/6 [==============================] - 0s 64ms/step - loss: 0.0045\n",
      "Epoch 34/100\n",
      "6/6 [==============================] - 0s 68ms/step - loss: 0.0042\n",
      "Epoch 35/100\n",
      "6/6 [==============================] - 0s 72ms/step - loss: 0.0043\n",
      "Epoch 36/100\n",
      "6/6 [==============================] - 0s 71ms/step - loss: 0.0040\n",
      "Epoch 37/100\n",
      "6/6 [==============================] - 0s 66ms/step - loss: 0.0040\n",
      "Epoch 38/100\n",
      "6/6 [==============================] - 0s 65ms/step - loss: 0.0039\n",
      "Epoch 39/100\n",
      "6/6 [==============================] - 0s 66ms/step - loss: 0.0040\n",
      "Epoch 40/100\n",
      "6/6 [==============================] - 0s 68ms/step - loss: 0.0040\n",
      "Epoch 41/100\n",
      "6/6 [==============================] - 0s 66ms/step - loss: 0.0038\n",
      "Epoch 42/100\n",
      "6/6 [==============================] - 0s 65ms/step - loss: 0.0038\n",
      "Epoch 43/100\n",
      "6/6 [==============================] - 0s 69ms/step - loss: 0.0038\n",
      "Epoch 44/100\n",
      "6/6 [==============================] - 0s 68ms/step - loss: 0.0038\n",
      "Epoch 45/100\n",
      "6/6 [==============================] - 0s 64ms/step - loss: 0.0038\n",
      "Epoch 46/100\n",
      "6/6 [==============================] - 0s 66ms/step - loss: 0.0037\n",
      "Epoch 47/100\n",
      "6/6 [==============================] - 0s 66ms/step - loss: 0.0038\n",
      "Epoch 48/100\n",
      "6/6 [==============================] - 0s 67ms/step - loss: 0.0039\n",
      "Epoch 49/100\n",
      "6/6 [==============================] - 0s 68ms/step - loss: 0.0038\n",
      "Epoch 50/100\n",
      "6/6 [==============================] - 0s 64ms/step - loss: 0.0036\n",
      "Epoch 51/100\n",
      "6/6 [==============================] - 0s 69ms/step - loss: 0.0038\n",
      "Epoch 52/100\n",
      "6/6 [==============================] - 0s 64ms/step - loss: 0.0036\n",
      "Epoch 53/100\n",
      "6/6 [==============================] - 0s 61ms/step - loss: 0.0036\n",
      "Epoch 54/100\n",
      "6/6 [==============================] - 0s 69ms/step - loss: 0.0036\n",
      "Epoch 55/100\n",
      "6/6 [==============================] - 0s 63ms/step - loss: 0.0036\n",
      "Epoch 56/100\n",
      "6/6 [==============================] - 0s 67ms/step - loss: 0.0037\n",
      "Epoch 57/100\n",
      "6/6 [==============================] - 0s 67ms/step - loss: 0.0035\n",
      "Epoch 58/100\n",
      "6/6 [==============================] - 0s 64ms/step - loss: 0.0037\n",
      "Epoch 59/100\n",
      "6/6 [==============================] - 0s 66ms/step - loss: 0.0036\n",
      "Epoch 60/100\n",
      "6/6 [==============================] - 0s 71ms/step - loss: 0.0039\n",
      "Epoch 61/100\n",
      "6/6 [==============================] - 0s 60ms/step - loss: 0.0035\n",
      "Epoch 62/100\n",
      "6/6 [==============================] - 0s 67ms/step - loss: 0.0033\n",
      "Epoch 63/100\n",
      "6/6 [==============================] - 0s 62ms/step - loss: 0.0034\n",
      "Epoch 64/100\n",
      "6/6 [==============================] - 0s 65ms/step - loss: 0.0032\n",
      "Epoch 65/100\n",
      "6/6 [==============================] - 0s 66ms/step - loss: 0.0032\n",
      "Epoch 66/100\n",
      "6/6 [==============================] - 0s 69ms/step - loss: 0.0034\n",
      "Epoch 67/100\n",
      "6/6 [==============================] - 0s 63ms/step - loss: 0.0035\n",
      "Epoch 68/100\n",
      "6/6 [==============================] - 0s 67ms/step - loss: 0.0032\n",
      "Epoch 69/100\n",
      "6/6 [==============================] - 0s 61ms/step - loss: 0.0031\n",
      "Epoch 70/100\n",
      "6/6 [==============================] - 0s 70ms/step - loss: 0.0032\n",
      "Epoch 71/100\n",
      "6/6 [==============================] - 0s 72ms/step - loss: 0.0032\n",
      "Epoch 72/100\n",
      "6/6 [==============================] - 0s 66ms/step - loss: 0.0031\n",
      "Epoch 73/100\n",
      "6/6 [==============================] - 0s 64ms/step - loss: 0.0030\n",
      "Epoch 74/100\n",
      "6/6 [==============================] - 0s 69ms/step - loss: 0.0031\n",
      "Epoch 75/100\n",
      "6/6 [==============================] - 0s 60ms/step - loss: 0.0030\n",
      "Epoch 76/100\n",
      "6/6 [==============================] - 0s 72ms/step - loss: 0.0030\n",
      "Epoch 77/100\n",
      "6/6 [==============================] - 0s 67ms/step - loss: 0.0030\n",
      "Epoch 78/100\n",
      "6/6 [==============================] - 0s 70ms/step - loss: 0.0030\n",
      "Epoch 79/100\n",
      "6/6 [==============================] - 0s 69ms/step - loss: 0.0029\n",
      "Epoch 80/100\n",
      "6/6 [==============================] - 0s 72ms/step - loss: 0.0029\n",
      "Epoch 81/100\n",
      "6/6 [==============================] - 0s 63ms/step - loss: 0.0029\n",
      "Epoch 82/100\n",
      "6/6 [==============================] - 0s 68ms/step - loss: 0.0030\n",
      "Epoch 83/100\n",
      "6/6 [==============================] - 0s 69ms/step - loss: 0.0029\n",
      "Epoch 84/100\n",
      "6/6 [==============================] - 0s 61ms/step - loss: 0.0030\n",
      "Epoch 85/100\n",
      "6/6 [==============================] - 0s 64ms/step - loss: 0.0031\n",
      "Epoch 86/100\n",
      "6/6 [==============================] - 0s 69ms/step - loss: 0.0031\n",
      "Epoch 87/100\n",
      "6/6 [==============================] - 0s 73ms/step - loss: 0.0029\n",
      "Epoch 88/100\n",
      "6/6 [==============================] - 0s 70ms/step - loss: 0.0032\n",
      "Epoch 89/100\n",
      "6/6 [==============================] - 0s 70ms/step - loss: 0.0033\n",
      "Epoch 90/100\n",
      "6/6 [==============================] - 0s 70ms/step - loss: 0.0030\n",
      "Epoch 91/100\n",
      "6/6 [==============================] - 0s 72ms/step - loss: 0.0028\n",
      "Epoch 92/100\n",
      "6/6 [==============================] - 0s 69ms/step - loss: 0.0027\n",
      "Epoch 93/100\n",
      "6/6 [==============================] - 0s 67ms/step - loss: 0.0027\n",
      "Epoch 94/100\n",
      "6/6 [==============================] - 0s 67ms/step - loss: 0.0027\n",
      "Epoch 95/100\n",
      "6/6 [==============================] - 0s 68ms/step - loss: 0.0027\n",
      "Epoch 96/100\n",
      "6/6 [==============================] - 0s 64ms/step - loss: 0.0026\n",
      "Epoch 97/100\n",
      "6/6 [==============================] - 0s 61ms/step - loss: 0.0027\n",
      "Epoch 98/100\n",
      "6/6 [==============================] - 0s 66ms/step - loss: 0.0030\n",
      "Epoch 99/100\n",
      "6/6 [==============================] - 0s 63ms/step - loss: 0.0028\n",
      "Epoch 100/100\n",
      "6/6 [==============================] - 0s 68ms/step - loss: 0.0027\n"
     ]
    },
    {
     "data": {
      "text/plain": [
       "<keras.src.callbacks.History at 0x16e7e5ca3d0>"
      ]
     },
     "execution_count": 6,
     "metadata": {},
     "output_type": "execute_result"
    }
   ],
   "source": [
    "model = Sequential()\n",
    "model.add(LSTM(units=50, return_sequences=True, input_shape=(X.shape[1], 1)))\n",
    "model.add(LSTM(units=50))\n",
    "model.add(Dense(units=1))\n",
    "model.compile(optimizer='adam', loss='mean_squared_error')\n",
    "model.fit(X, y, epochs=100, batch_size=32)"
   ]
  },
  {
   "cell_type": "markdown",
   "id": "7895469d",
   "metadata": {},
   "source": [
    "## Make predictions"
   ]
  },
  {
   "cell_type": "code",
   "execution_count": 8,
   "id": "07963abd",
   "metadata": {},
   "outputs": [
    {
     "name": "stdout",
     "output_type": "stream",
     "text": [
      "6/6 [==============================] - 2s 31ms/step\n"
     ]
    }
   ],
   "source": [
    "predictions = model.predict(X)\n",
    "predictions = scaler.inverse_transform(predictions)"
   ]
  },
  {
   "cell_type": "markdown",
   "id": "b60d86b2",
   "metadata": {},
   "source": [
    "## Plot actual vs predicted prices"
   ]
  },
  {
   "cell_type": "code",
   "execution_count": 9,
   "id": "1abf8258",
   "metadata": {},
   "outputs": [
    {
     "data": {
      "image/png": "[encoded data removed]",
      "text/plain": [
       "<Figure size 640x480 with 1 Axes>"
      ]
     },
     "metadata": {},
     "output_type": "display_data"
    }
   ],
   "source": [
    "plt.plot(data, color='blue', label='Actual Amazon Stock Price')\n",
    "plt.plot(predictions, color='red', label='Predicted Amazon Stock Price')\n",
    "plt.title('Amazon Stock Price Prediction')\n",
    "plt.xlabel('Time')\n",
    "plt.ylabel('Amazon Stock Price')\n",
    "plt.legend()\n",
    "plt.show()"
   ]
  },
  {
   "cell_type": "markdown",
   "id": "8ef54abb",
   "metadata": {},
   "source": [
    "## Prepare data for future predictions"
   ]
  },
  {
   "cell_type": "code",
   "execution_count": 10,
   "id": "1f682a07",
   "metadata": {},
   "outputs": [],
   "source": [
    "future_X = data[-60:]\n",
    "future_X = scaler.transform(future_X)\n",
    "future_X = np.reshape(future_X, (1, future_X.shape[0], 1))"
   ]
  },
  {
   "cell_type": "markdown",
   "id": "c2b17e51",
   "metadata": {},
   "source": [
    "## Make future predictions"
   ]
  },
  {
   "cell_type": "code",
   "execution_count": 11,
   "id": "ab30cd62",
   "metadata": {},
   "outputs": [
    {
     "name": "stdout",
     "output_type": "stream",
     "text": [
      "1/1 [==============================] - 2s 2s/step\n",
      "1/1 [==============================] - 0s 65ms/step\n",
      "1/1 [==============================] - 0s 70ms/step\n",
      "1/1 [==============================] - 0s 65ms/step\n",
      "1/1 [==============================] - 0s 66ms/step\n",
      "1/1 [==============================] - 0s 57ms/step\n",
      "1/1 [==============================] - 0s 67ms/step\n",
      "1/1 [==============================] - 0s 58ms/step\n",
      "1/1 [==============================] - 0s 62ms/step\n",
      "1/1 [==============================] - 0s 56ms/step\n",
      "1/1 [==============================] - 0s 61ms/step\n",
      "1/1 [==============================] - 0s 69ms/step\n",
      "1/1 [==============================] - 0s 64ms/step\n",
      "1/1 [==============================] - 0s 65ms/step\n",
      "1/1 [==============================] - 0s 65ms/step\n",
      "1/1 [==============================] - 0s 109ms/step\n",
      "1/1 [==============================] - 0s 66ms/step\n",
      "1/1 [==============================] - 0s 69ms/step\n",
      "1/1 [==============================] - 0s 58ms/step\n",
      "1/1 [==============================] - 0s 64ms/step\n",
      "1/1 [==============================] - 0s 66ms/step\n",
      "1/1 [==============================] - 0s 57ms/step\n",
      "1/1 [==============================] - 0s 64ms/step\n",
      "1/1 [==============================] - 0s 64ms/step\n",
      "1/1 [==============================] - 0s 67ms/step\n",
      "1/1 [==============================] - 0s 57ms/step\n",
      "1/1 [==============================] - 0s 56ms/step\n",
      "1/1 [==============================] - 0s 54ms/step\n",
      "1/1 [==============================] - 0s 58ms/step\n",
      "1/1 [==============================] - 0s 56ms/step\n"
     ]
    }
   ],
   "source": [
    "future_predictions = []\n",
    "for i in range(30):\n",
    "    prediction = model.predict(future_X)\n",
    "    future_predictions.append(prediction[0, 0])\n",
    "    prediction = np.reshape(prediction, (1, 1, 1))\n",
    "    future_X = np.append(future_X[:, 1:, :], prediction, axis=1)\n",
    "\n",
    "\n",
    "future_predictions = np.array(future_predictions).reshape(-1, 1)\n",
    "future_predictions = scaler.inverse_transform(future_predictions)"
   ]
  },
  {
   "cell_type": "markdown",
   "id": "7c32e29b",
   "metadata": {},
   "source": [
    "## Plot future predictions"
   ]
  },
  {
   "cell_type": "code",
   "execution_count": 12,
   "id": "b6b5065b",
   "metadata": {},
   "outputs": [
    {
     "data": {
      "image/png": "[encoded data removed]",
      "text/plain": [
       "<Figure size 640x480 with 1 Axes>"
      ]
     },
     "metadata": {},
     "output_type": "display_data"
    }
   ],
   "source": [
    "plt.plot(future_predictions, color='green', label='Future Amazon Stock Price')\n",
    "plt.title('Amazon Stock Price Prediction')\n",
    "plt.xlabel('Time')\n",
    "plt.ylabel('Amazon Stock Price')\n",
    "plt.legend()\n",
    "plt.show()"
   ]
  },
  {
   "cell_type": "code",
   "execution_count": null,
   "id": "9278670d",
   "metadata": {},
   "outputs": [],
   "source": []
  }
 ],
 "metadata": {
  "kernelspec": {
   "display_name": "Python 3 (ipykernel)",
   "language": "python",
   "name": "python3"
  },
  "language_info": {
   "codemirror_mode": {
    "name": "ipython",
    "version": 3
   },
   "file_extension": ".py",
   "mimetype": "text/x-python",
   "name": "python",
   "nbconvert_exporter": "python",
   "pygments_lexer": "ipython3",
   "version": "3.11.4"
  }
 },
 "nbformat": 4,
 "nbformat_minor": 5
}
